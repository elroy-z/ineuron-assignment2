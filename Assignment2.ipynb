{
 "cells": [
  {
   "cell_type": "markdown",
   "metadata": {},
   "source": [
    "1. Create the below pattern using nested for loop in Python."
   ]
  },
  {
   "cell_type": "markdown",
   "metadata": {},
   "source": [
    "*\n",
    "* *\n",
    "* * *\n",
    "* * * *\n",
    "* * * * *\n",
    "* * * *\n",
    "* * *\n",
    "* *\n",
    "*"
   ]
  },
  {
   "cell_type": "code",
   "execution_count": 5,
   "metadata": {},
   "outputs": [
    {
     "name": "stdout",
     "output_type": "stream",
     "text": [
      "Enter number of rows: 5\n",
      "*     \n",
      "* *     \n",
      "* * *     \n",
      "* * * *     \n",
      "* * * * *     \n",
      "* * * *  \n",
      "* * *   \n",
      "* *    \n",
      "*     \n"
     ]
    }
   ],
   "source": [
    "n=int(input (\"Enter number of rows: \"))\n",
    "for i in range(n):\n",
    "    print(\"* \"*(i+1)+\" \"*(n-1))\n",
    "for i in range(n-1):\n",
    "    print(\"* \"*(n-i-1)+\" \"*(i+1))"
   ]
  },
  {
   "cell_type": "markdown",
   "metadata": {},
   "source": [
    "2. Write a Python program to reverse a word after accepting the input from the user.\n",
    "   Sample Output:\n",
    "   Input word: ineuron\n",
    "    Output: norueni"
   ]
  },
  {
   "cell_type": "code",
   "execution_count": 8,
   "metadata": {},
   "outputs": [
    {
     "name": "stdout",
     "output_type": "stream",
     "text": [
      "Input word: ineuron\n",
      "Output:   norueni\n"
     ]
    }
   ],
   "source": [
    "string = input(\"Input word: \")\n",
    "output=\" \"\n",
    "n=len(string)-1\n",
    "i=n\n",
    "while(i>=0):\n",
    "    output=output+string[i]\n",
    "    i=i-1\n",
    "print(\"Output: \",output)\n",
    "    "
   ]
  },
  {
   "cell_type": "code",
   "execution_count": null,
   "metadata": {},
   "outputs": [],
   "source": []
  }
 ],
 "metadata": {
  "kernelspec": {
   "display_name": "Python 3",
   "language": "python",
   "name": "python3"
  },
  "language_info": {
   "codemirror_mode": {
    "name": "ipython",
    "version": 3
   },
   "file_extension": ".py",
   "mimetype": "text/x-python",
   "name": "python",
   "nbconvert_exporter": "python",
   "pygments_lexer": "ipython3",
   "version": "3.8.3"
  }
 },
 "nbformat": 4,
 "nbformat_minor": 4
}
